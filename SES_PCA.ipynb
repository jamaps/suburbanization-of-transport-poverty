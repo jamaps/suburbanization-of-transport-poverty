{
 "cells": [
  {
   "cell_type": "markdown",
   "metadata": {},
   "source": [
    "## Create PCA of SES for the Toronto region"
   ]
  },
  {
   "cell_type": "markdown",
   "metadata": {},
   "source": [
    "First some initial data loading and setup"
   ]
  },
  {
   "cell_type": "code",
   "execution_count": 1,
   "metadata": {},
   "outputs": [],
   "source": [
    "import numpy as np\n",
    "import pandas as pd\n",
    "\n",
    "import sklearn\n",
    "from sklearn import preprocessing\n",
    "from sklearn import decomposition\n",
    "\n",
    "import seaborn as sns\n",
    "import matplotlib.pyplot as plt\n",
    "%matplotlib inline"
   ]
  },
  {
   "cell_type": "code",
   "execution_count": 2,
   "metadata": {},
   "outputs": [
    {
     "name": "stderr",
     "output_type": "stream",
     "text": [
      "/home/jamaps/miniconda3/envs/map/lib/python3.8/site-packages/IPython/core/interactiveshell.py:3145: DtypeWarning: Columns (1) have mixed types.Specify dtype option on import or set low_memory=False.\n",
      "  has_raised = await self.run_ast_nodes(code_ast.body, cell_name,\n"
     ]
    },
    {
     "data": {
      "text/html": [
       "<div>\n",
       "<style scoped>\n",
       "    .dataframe tbody tr th:only-of-type {\n",
       "        vertical-align: middle;\n",
       "    }\n",
       "\n",
       "    .dataframe tbody tr th {\n",
       "        vertical-align: top;\n",
       "    }\n",
       "\n",
       "    .dataframe thead th {\n",
       "        text-align: right;\n",
       "    }\n",
       "</style>\n",
       "<table border=\"1\" class=\"dataframe\">\n",
       "  <thead>\n",
       "    <tr style=\"text-align: right;\">\n",
       "      <th></th>\n",
       "      <th>ct_year</th>\n",
       "      <th>ctuid</th>\n",
       "      <th>pop</th>\n",
       "      <th>dw</th>\n",
       "      <th>inc_avg_inc</th>\n",
       "      <th>inc_avg_inc_16</th>\n",
       "      <th>na_flag</th>\n",
       "      <th>na_pop_flag</th>\n",
       "      <th>na_sup_flag</th>\n",
       "      <th>pop_immig</th>\n",
       "      <th>...</th>\n",
       "      <th>area_km</th>\n",
       "      <th>pop_child_prop</th>\n",
       "      <th>pop_elderly_prop</th>\n",
       "      <th>dw_lone_prop</th>\n",
       "      <th>pop_no_high_school_prop</th>\n",
       "      <th>Ai_combine</th>\n",
       "      <th>inc_avg_inc_16_logged</th>\n",
       "      <th>pop_density</th>\n",
       "      <th>R_activities_per_day</th>\n",
       "      <th>cma</th>\n",
       "    </tr>\n",
       "  </thead>\n",
       "  <tbody>\n",
       "    <tr>\n",
       "      <th>85</th>\n",
       "      <td>1991_5350001.00</td>\n",
       "      <td>5350001.00</td>\n",
       "      <td>618.0</td>\n",
       "      <td>215.0</td>\n",
       "      <td>39093.00</td>\n",
       "      <td>60594.15</td>\n",
       "      <td>0.0</td>\n",
       "      <td>0</td>\n",
       "      <td>0.0</td>\n",
       "      <td>0.056634</td>\n",
       "      <td>...</td>\n",
       "      <td>6.10</td>\n",
       "      <td>0.169903</td>\n",
       "      <td>0.097087</td>\n",
       "      <td>0.333333</td>\n",
       "      <td>0.481481</td>\n",
       "      <td>0.362961</td>\n",
       "      <td>11.011954</td>\n",
       "      <td>101.311475</td>\n",
       "      <td>0.000000</td>\n",
       "      <td>535.0</td>\n",
       "    </tr>\n",
       "    <tr>\n",
       "      <th>86</th>\n",
       "      <td>1991_5350002.00</td>\n",
       "      <td>5350002.00</td>\n",
       "      <td>592.0</td>\n",
       "      <td>245.0</td>\n",
       "      <td>41002.00</td>\n",
       "      <td>63553.10</td>\n",
       "      <td>0.0</td>\n",
       "      <td>0</td>\n",
       "      <td>0.0</td>\n",
       "      <td>0.000000</td>\n",
       "      <td>...</td>\n",
       "      <td>3.17</td>\n",
       "      <td>0.211149</td>\n",
       "      <td>0.084459</td>\n",
       "      <td>0.250000</td>\n",
       "      <td>0.229167</td>\n",
       "      <td>0.233365</td>\n",
       "      <td>11.059631</td>\n",
       "      <td>186.750789</td>\n",
       "      <td>1.440000</td>\n",
       "      <td>535.0</td>\n",
       "    </tr>\n",
       "    <tr>\n",
       "      <th>87</th>\n",
       "      <td>1991_5350003.00</td>\n",
       "      <td>5350003.00</td>\n",
       "      <td>0.0</td>\n",
       "      <td>0.0</td>\n",
       "      <td>NaN</td>\n",
       "      <td>NaN</td>\n",
       "      <td>2.0</td>\n",
       "      <td>1</td>\n",
       "      <td>1.0</td>\n",
       "      <td>NaN</td>\n",
       "      <td>...</td>\n",
       "      <td>0.91</td>\n",
       "      <td>NaN</td>\n",
       "      <td>NaN</td>\n",
       "      <td>NaN</td>\n",
       "      <td>NaN</td>\n",
       "      <td>0.340347</td>\n",
       "      <td>NaN</td>\n",
       "      <td>0.000000</td>\n",
       "      <td>1.121959</td>\n",
       "      <td>535.0</td>\n",
       "    </tr>\n",
       "    <tr>\n",
       "      <th>88</th>\n",
       "      <td>1991_5350004.00</td>\n",
       "      <td>5350004.00</td>\n",
       "      <td>7050.0</td>\n",
       "      <td>3395.0</td>\n",
       "      <td>29558.00</td>\n",
       "      <td>45814.90</td>\n",
       "      <td>0.0</td>\n",
       "      <td>0</td>\n",
       "      <td>0.0</td>\n",
       "      <td>0.234043</td>\n",
       "      <td>...</td>\n",
       "      <td>0.34</td>\n",
       "      <td>0.129787</td>\n",
       "      <td>0.108511</td>\n",
       "      <td>0.207885</td>\n",
       "      <td>0.390795</td>\n",
       "      <td>0.455281</td>\n",
       "      <td>10.732365</td>\n",
       "      <td>20735.294118</td>\n",
       "      <td>1.126957</td>\n",
       "      <td>535.0</td>\n",
       "    </tr>\n",
       "    <tr>\n",
       "      <th>89</th>\n",
       "      <td>1991_5350005.00</td>\n",
       "      <td>5350005.00</td>\n",
       "      <td>5087.0</td>\n",
       "      <td>2140.0</td>\n",
       "      <td>32812.00</td>\n",
       "      <td>50858.60</td>\n",
       "      <td>0.0</td>\n",
       "      <td>0</td>\n",
       "      <td>0.0</td>\n",
       "      <td>0.214272</td>\n",
       "      <td>...</td>\n",
       "      <td>0.38</td>\n",
       "      <td>0.162178</td>\n",
       "      <td>0.113033</td>\n",
       "      <td>0.320000</td>\n",
       "      <td>0.389157</td>\n",
       "      <td>0.455281</td>\n",
       "      <td>10.836805</td>\n",
       "      <td>13386.842105</td>\n",
       "      <td>1.126957</td>\n",
       "      <td>535.0</td>\n",
       "    </tr>\n",
       "    <tr>\n",
       "      <th>...</th>\n",
       "      <td>...</td>\n",
       "      <td>...</td>\n",
       "      <td>...</td>\n",
       "      <td>...</td>\n",
       "      <td>...</td>\n",
       "      <td>...</td>\n",
       "      <td>...</td>\n",
       "      <td>...</td>\n",
       "      <td>...</td>\n",
       "      <td>...</td>\n",
       "      <td>...</td>\n",
       "      <td>...</td>\n",
       "      <td>...</td>\n",
       "      <td>...</td>\n",
       "      <td>...</td>\n",
       "      <td>...</td>\n",
       "      <td>...</td>\n",
       "      <td>...</td>\n",
       "      <td>...</td>\n",
       "      <td>...</td>\n",
       "      <td>...</td>\n",
       "    </tr>\n",
       "    <tr>\n",
       "      <th>8228</th>\n",
       "      <td>2016_5350820.07</td>\n",
       "      <td>5.35082e+06</td>\n",
       "      <td>4002.0</td>\n",
       "      <td>1280.0</td>\n",
       "      <td>167464.96</td>\n",
       "      <td>167464.96</td>\n",
       "      <td>0.0</td>\n",
       "      <td>0</td>\n",
       "      <td>0.0</td>\n",
       "      <td>0.011244</td>\n",
       "      <td>...</td>\n",
       "      <td>1.33</td>\n",
       "      <td>0.147316</td>\n",
       "      <td>0.099875</td>\n",
       "      <td>0.157895</td>\n",
       "      <td>0.144300</td>\n",
       "      <td>0.221598</td>\n",
       "      <td>12.028529</td>\n",
       "      <td>3009.022556</td>\n",
       "      <td>1.423013</td>\n",
       "      <td>535.0</td>\n",
       "    </tr>\n",
       "    <tr>\n",
       "      <th>8229</th>\n",
       "      <td>2016_5350830.00</td>\n",
       "      <td>5.35083e+06</td>\n",
       "      <td>4596.0</td>\n",
       "      <td>1595.0</td>\n",
       "      <td>152394.80</td>\n",
       "      <td>152394.80</td>\n",
       "      <td>0.0</td>\n",
       "      <td>0</td>\n",
       "      <td>0.0</td>\n",
       "      <td>0.006527</td>\n",
       "      <td>...</td>\n",
       "      <td>186.55</td>\n",
       "      <td>0.132753</td>\n",
       "      <td>0.171926</td>\n",
       "      <td>0.084806</td>\n",
       "      <td>0.154131</td>\n",
       "      <td>0.025394</td>\n",
       "      <td>11.934230</td>\n",
       "      <td>24.636827</td>\n",
       "      <td>1.396162</td>\n",
       "      <td>535.0</td>\n",
       "    </tr>\n",
       "    <tr>\n",
       "      <th>8230</th>\n",
       "      <td>2016_5350831.01</td>\n",
       "      <td>5.35083e+06</td>\n",
       "      <td>5750.0</td>\n",
       "      <td>2030.0</td>\n",
       "      <td>143220.24</td>\n",
       "      <td>143220.24</td>\n",
       "      <td>0.0</td>\n",
       "      <td>0</td>\n",
       "      <td>0.0</td>\n",
       "      <td>0.004348</td>\n",
       "      <td>...</td>\n",
       "      <td>12.10</td>\n",
       "      <td>0.179130</td>\n",
       "      <td>0.139130</td>\n",
       "      <td>0.140719</td>\n",
       "      <td>0.142402</td>\n",
       "      <td>0.046992</td>\n",
       "      <td>11.872139</td>\n",
       "      <td>475.206612</td>\n",
       "      <td>1.211038</td>\n",
       "      <td>535.0</td>\n",
       "    </tr>\n",
       "    <tr>\n",
       "      <th>8231</th>\n",
       "      <td>2016_5350831.02</td>\n",
       "      <td>5.35083e+06</td>\n",
       "      <td>6780.0</td>\n",
       "      <td>2625.0</td>\n",
       "      <td>117939.20</td>\n",
       "      <td>117939.20</td>\n",
       "      <td>0.0</td>\n",
       "      <td>0</td>\n",
       "      <td>0.0</td>\n",
       "      <td>0.008112</td>\n",
       "      <td>...</td>\n",
       "      <td>17.59</td>\n",
       "      <td>0.154867</td>\n",
       "      <td>0.228614</td>\n",
       "      <td>0.135204</td>\n",
       "      <td>0.137838</td>\n",
       "      <td>0.049569</td>\n",
       "      <td>11.677925</td>\n",
       "      <td>385.446276</td>\n",
       "      <td>1.436510</td>\n",
       "      <td>535.0</td>\n",
       "    </tr>\n",
       "    <tr>\n",
       "      <th>8232</th>\n",
       "      <td>2016_5350832.00</td>\n",
       "      <td>5.35083e+06</td>\n",
       "      <td>4050.0</td>\n",
       "      <td>1410.0</td>\n",
       "      <td>134320.40</td>\n",
       "      <td>134320.40</td>\n",
       "      <td>0.0</td>\n",
       "      <td>0</td>\n",
       "      <td>0.0</td>\n",
       "      <td>0.003704</td>\n",
       "      <td>...</td>\n",
       "      <td>204.71</td>\n",
       "      <td>0.154512</td>\n",
       "      <td>0.152040</td>\n",
       "      <td>0.107570</td>\n",
       "      <td>0.139222</td>\n",
       "      <td>0.002203</td>\n",
       "      <td>11.807983</td>\n",
       "      <td>19.784085</td>\n",
       "      <td>1.554702</td>\n",
       "      <td>535.0</td>\n",
       "    </tr>\n",
       "  </tbody>\n",
       "</table>\n",
       "<p>6798 rows × 64 columns</p>\n",
       "</div>"
      ],
      "text/plain": [
       "              ct_year        ctuid     pop      dw  inc_avg_inc  \\\n",
       "85    1991_5350001.00   5350001.00   618.0   215.0     39093.00   \n",
       "86    1991_5350002.00   5350002.00   592.0   245.0     41002.00   \n",
       "87    1991_5350003.00   5350003.00     0.0     0.0          NaN   \n",
       "88    1991_5350004.00   5350004.00  7050.0  3395.0     29558.00   \n",
       "89    1991_5350005.00   5350005.00  5087.0  2140.0     32812.00   \n",
       "...               ...          ...     ...     ...          ...   \n",
       "8228  2016_5350820.07  5.35082e+06  4002.0  1280.0    167464.96   \n",
       "8229  2016_5350830.00  5.35083e+06  4596.0  1595.0    152394.80   \n",
       "8230  2016_5350831.01  5.35083e+06  5750.0  2030.0    143220.24   \n",
       "8231  2016_5350831.02  5.35083e+06  6780.0  2625.0    117939.20   \n",
       "8232  2016_5350832.00  5.35083e+06  4050.0  1410.0    134320.40   \n",
       "\n",
       "      inc_avg_inc_16  na_flag  na_pop_flag  na_sup_flag  pop_immig  ...  \\\n",
       "85          60594.15      0.0            0          0.0   0.056634  ...   \n",
       "86          63553.10      0.0            0          0.0   0.000000  ...   \n",
       "87               NaN      2.0            1          1.0        NaN  ...   \n",
       "88          45814.90      0.0            0          0.0   0.234043  ...   \n",
       "89          50858.60      0.0            0          0.0   0.214272  ...   \n",
       "...              ...      ...          ...          ...        ...  ...   \n",
       "8228       167464.96      0.0            0          0.0   0.011244  ...   \n",
       "8229       152394.80      0.0            0          0.0   0.006527  ...   \n",
       "8230       143220.24      0.0            0          0.0   0.004348  ...   \n",
       "8231       117939.20      0.0            0          0.0   0.008112  ...   \n",
       "8232       134320.40      0.0            0          0.0   0.003704  ...   \n",
       "\n",
       "      area_km  pop_child_prop  pop_elderly_prop  dw_lone_prop  \\\n",
       "85       6.10        0.169903          0.097087      0.333333   \n",
       "86       3.17        0.211149          0.084459      0.250000   \n",
       "87       0.91             NaN               NaN           NaN   \n",
       "88       0.34        0.129787          0.108511      0.207885   \n",
       "89       0.38        0.162178          0.113033      0.320000   \n",
       "...       ...             ...               ...           ...   \n",
       "8228     1.33        0.147316          0.099875      0.157895   \n",
       "8229   186.55        0.132753          0.171926      0.084806   \n",
       "8230    12.10        0.179130          0.139130      0.140719   \n",
       "8231    17.59        0.154867          0.228614      0.135204   \n",
       "8232   204.71        0.154512          0.152040      0.107570   \n",
       "\n",
       "      pop_no_high_school_prop  Ai_combine  inc_avg_inc_16_logged  \\\n",
       "85                   0.481481    0.362961              11.011954   \n",
       "86                   0.229167    0.233365              11.059631   \n",
       "87                        NaN    0.340347                    NaN   \n",
       "88                   0.390795    0.455281              10.732365   \n",
       "89                   0.389157    0.455281              10.836805   \n",
       "...                       ...         ...                    ...   \n",
       "8228                 0.144300    0.221598              12.028529   \n",
       "8229                 0.154131    0.025394              11.934230   \n",
       "8230                 0.142402    0.046992              11.872139   \n",
       "8231                 0.137838    0.049569              11.677925   \n",
       "8232                 0.139222    0.002203              11.807983   \n",
       "\n",
       "       pop_density  R_activities_per_day    cma  \n",
       "85      101.311475              0.000000  535.0  \n",
       "86      186.750789              1.440000  535.0  \n",
       "87        0.000000              1.121959  535.0  \n",
       "88    20735.294118              1.126957  535.0  \n",
       "89    13386.842105              1.126957  535.0  \n",
       "...            ...                   ...    ...  \n",
       "8228   3009.022556              1.423013  535.0  \n",
       "8229     24.636827              1.396162  535.0  \n",
       "8230    475.206612              1.211038  535.0  \n",
       "8231    385.446276              1.436510  535.0  \n",
       "8232     19.784085              1.554702  535.0  \n",
       "\n",
       "[6798 rows x 64 columns]"
      ]
     },
     "execution_count": 2,
     "metadata": {},
     "output_type": "execute_result"
    }
   ],
   "source": [
    "df = pd.read_csv(\"data/all_data_2016_CTs_V3.csv\")\n",
    "df = df.loc[(df[\"ct_year\"] != \"x\")]\n",
    "df = df.loc[(df[\"cma\"] == 535)]\n",
    "#df.to_csv(\"temp.csv\")\n",
    "#df.columns\n",
    "df"
   ]
  },
  {
   "cell_type": "markdown",
   "metadata": {},
   "source": [
    "Pull out variables that will be used for the PCA"
   ]
  },
  {
   "cell_type": "code",
   "execution_count": 3,
   "metadata": {},
   "outputs": [],
   "source": [
    "df_pca = df[[\n",
    "    \"ct_year\",\n",
    "    'year',\n",
    "    \"pop\",\n",
    "    \"pop_density\",\n",
    "    \"pop_immig\",\n",
    "    \"pop_nodegree\",\n",
    "    \"pop_no_high_school_prop\",\n",
    "    \"pop_unemployed\",\n",
    "    \"pop_elderly_prop\",\n",
    "    \"inc_lico_p\",\n",
    "    \"inc_total30p\",\n",
    "    \"inc_avg_inc_16_logged\",\n",
    "    \"dw_majorrep\",\n",
    "    \"dw_lone_prop\"    \n",
    "]]\n",
    "df_pca = df_pca.dropna()\n"
   ]
  },
  {
   "cell_type": "markdown",
   "metadata": {},
   "source": [
    "Showing a correlation matrix of these selected variables"
   ]
  },
  {
   "cell_type": "code",
   "execution_count": 4,
   "metadata": {},
   "outputs": [
    {
     "data": {
      "image/png": "[encoded data removed]",
      "text/plain": [
       "<Figure size 288x288 with 1 Axes>"
      ]
     },
     "metadata": {
      "needs_background": "light"
     },
     "output_type": "display_data"
    }
   ],
   "source": [
    "import matplotlib.pyplot as plt\n",
    "#print(df_pca.corr())\n",
    "plt.matshow(df_pca.corr())\n",
    "plt.show()"
   ]
  },
  {
   "cell_type": "markdown",
   "metadata": {},
   "source": [
    "Examining PCA results for different number of components by printing the variaance explained for each additional component"
   ]
  },
  {
   "cell_type": "code",
   "execution_count": 5,
   "metadata": {},
   "outputs": [
    {
     "name": "stdout",
     "output_type": "stream",
     "text": [
      "[0.52444737] 0.5244473682301614\n",
      "[0.52444737 0.15244369] 0.6768910628470186\n",
      "[0.52444737 0.15244369 0.10318188] 0.7800729455131642\n",
      "[0.52444737 0.15244369 0.10318188 0.06806389] 0.8481368391862214\n",
      "[0.52444737 0.15244369 0.10318188 0.06806389 0.06596607] 0.914102912470597\n",
      "[0.52444737 0.15244369 0.10318188 0.06806389 0.06596607 0.04420262] 0.9583055363279513\n",
      "[0.52444737 0.15244369 0.10318188 0.06806389 0.06596607 0.04420262\n",
      " 0.02316427] 0.9814698104098296\n",
      "[0.52444737 0.15244369 0.10318188 0.06806389 0.06596607 0.04420262\n",
      " 0.02316427 0.01853019] 1.0\n"
     ]
    }
   ],
   "source": [
    "k = 1\n",
    "while k <= 8:\n",
    "    data_pca = df_pca[[\"inc_avg_inc_16_logged\",\"inc_lico_p\",\"inc_total30p\",\"dw_majorrep\",\"dw_lone_prop\",\"pop_immig\",\"pop_no_high_school_prop\",\"pop_unemployed\"]]\n",
    "    data_pca = sklearn.preprocessing.StandardScaler().fit_transform(data_pca)\n",
    "    pca = sklearn.decomposition.PCA(n_components=k)\n",
    "    principalComponents = pca.fit_transform(data_pca)\n",
    "    principal_SES = pd.DataFrame(data = principalComponents\n",
    "                 , index=df_pca.index)\n",
    "    print(pca.explained_variance_ratio_,sum(pca.explained_variance_ratio_))\n",
    "    k += 1\n"
   ]
  },
  {
   "cell_type": "markdown",
   "metadata": {},
   "source": [
    "Decide on generating 3 components, and save to a dataframe"
   ]
  },
  {
   "cell_type": "code",
   "execution_count": 6,
   "metadata": {},
   "outputs": [
    {
     "name": "stdout",
     "output_type": "stream",
     "text": [
      "[0.52444737 0.15244369 0.10318188] 0.7800729455131643\n"
     ]
    }
   ],
   "source": [
    "data_pca = df_pca[[\"inc_avg_inc_16_logged\",\"inc_lico_p\",\"inc_total30p\",\"dw_majorrep\",\"dw_lone_prop\",\"pop_immig\",\"pop_no_high_school_prop\",\"pop_unemployed\"]]\n",
    "data_pca = sklearn.preprocessing.StandardScaler().fit_transform(data_pca)\n",
    "pca = sklearn.decomposition.PCA(n_components=3)\n",
    "principalComponents = pca.fit_transform(data_pca)\n",
    "principal_SES = pd.DataFrame(data = principalComponents, columns = ['ses_pc1', 'ses_pc2','ses_pc3']\n",
    "             , index=df_pca.index)\n",
    "print(pca.explained_variance_ratio_,sum(pca.explained_variance_ratio_))\n",
    "\n",
    "df_pca_o = df_pca.join(principal_SES)"
   ]
  },
  {
   "cell_type": "code",
   "execution_count": 7,
   "metadata": {},
   "outputs": [
    {
     "data": {
      "text/plain": [
       "array([[-0.4282032 ,  0.45102992,  0.32897081,  0.28002348,  0.37531935,\n",
       "         0.30420473,  0.21194421,  0.38503715],\n",
       "       [ 0.10911421,  0.13083405,  0.44283174, -0.41594662, -0.1431143 ,\n",
       "         0.49529931, -0.57823657, -0.04128392],\n",
       "       [ 0.11235256,  0.08867293, -0.04159316,  0.50517337,  0.44031974,\n",
       "        -0.24487517, -0.65961396, -0.18343389]])"
      ]
     },
     "execution_count": 7,
     "metadata": {},
     "output_type": "execute_result"
    }
   ],
   "source": [
    "# printing the component weights\n",
    "pca.components_"
   ]
  },
  {
   "cell_type": "code",
   "execution_count": 8,
   "metadata": {},
   "outputs": [],
   "source": [
    "# set the first component to be SESi\n",
    "df_pca_o[\"SESi\"] = -df_pca_o[\"ses_pc1\"]"
   ]
  },
  {
   "cell_type": "markdown",
   "metadata": {},
   "source": [
    "Generating some simple descriptive stats and plots of SESi"
   ]
  },
  {
   "cell_type": "code",
   "execution_count": 9,
   "metadata": {},
   "outputs": [
    {
     "name": "stderr",
     "output_type": "stream",
     "text": [
      "/home/jamaps/miniconda3/envs/map/lib/python3.8/site-packages/seaborn/distributions.py:2551: FutureWarning: `distplot` is a deprecated function and will be removed in a future version. Please adapt your code to use either `displot` (a figure-level function with similar flexibility) or `histplot` (an axes-level function for histograms).\n",
      "  warnings.warn(msg, FutureWarning)\n"
     ]
    },
    {
     "data": {
      "text/plain": [
       "count    6.514000e+03\n",
       "mean     1.745269e-17\n",
       "std      2.048468e+00\n",
       "min     -9.275272e+00\n",
       "25%     -1.268729e+00\n",
       "50%      3.520149e-01\n",
       "75%      1.589398e+00\n",
       "max      4.756659e+00\n",
       "Name: SESi, dtype: float64"
      ]
     },
     "execution_count": 9,
     "metadata": {},
     "output_type": "execute_result"
    },
    {
     "data": {
      "image/png": "[encoded data removed]",
      "text/plain": [
       "<Figure size 432x288 with 1 Axes>"
      ]
     },
     "metadata": {
      "needs_background": "light"
     },
     "output_type": "display_data"
    }
   ],
   "source": [
    "sns.distplot(df_pca_o[\"SESi\"]);\n",
    "df_pca_o[\"SESi\"].describe()"
   ]
  },
  {
   "cell_type": "code",
   "execution_count": 10,
   "metadata": {},
   "outputs": [
    {
     "data": {
      "text/plain": [
       "array([[-1.61048369],\n",
       "       [-0.80467145],\n",
       "       [-2.41674547],\n",
       "       ...,\n",
       "       [ 1.04696928],\n",
       "       [ 1.07852212],\n",
       "       [ 0.91644133]])"
      ]
     },
     "execution_count": 10,
     "metadata": {},
     "output_type": "execute_result"
    }
   ],
   "source": [
    "sklearn.preprocessing.StandardScaler().fit_transform(df_pca_o[[\"SESi\"]])"
   ]
  },
  {
   "cell_type": "code",
   "execution_count": 11,
   "metadata": {},
   "outputs": [
    {
     "data": {
      "text/plain": [
       "<AxesSubplot:xlabel='inc_lico_p', ylabel='SESi'>"
      ]
     },
     "execution_count": 11,
     "metadata": {},
     "output_type": "execute_result"
    },
    {
     "data": {
      "image/png": "[encoded data removed]",
      "text/plain": [
       "<Figure size 432x288 with 1 Axes>"
      ]
     },
     "metadata": {
      "needs_background": "light"
     },
     "output_type": "display_data"
    }
   ],
   "source": [
    "sns.scatterplot(x=\"inc_lico_p\", y=\"SESi\", data=df_pca_o)"
   ]
  },
  {
   "cell_type": "markdown",
   "metadata": {},
   "source": [
    "Generate table of population weighted mean of SES by year"
   ]
  },
  {
   "cell_type": "code",
   "execution_count": 12,
   "metadata": {},
   "outputs": [
    {
     "data": {
      "text/html": [
       "<div>\n",
       "<style scoped>\n",
       "    .dataframe tbody tr th:only-of-type {\n",
       "        vertical-align: middle;\n",
       "    }\n",
       "\n",
       "    .dataframe tbody tr th {\n",
       "        vertical-align: top;\n",
       "    }\n",
       "\n",
       "    .dataframe thead th {\n",
       "        text-align: right;\n",
       "    }\n",
       "</style>\n",
       "<table border=\"1\" class=\"dataframe\">\n",
       "  <thead>\n",
       "    <tr style=\"text-align: right;\">\n",
       "      <th></th>\n",
       "      <th>pop</th>\n",
       "      <th>SES_x_pop</th>\n",
       "      <th>wm</th>\n",
       "    </tr>\n",
       "    <tr>\n",
       "      <th>year</th>\n",
       "      <th></th>\n",
       "      <th></th>\n",
       "      <th></th>\n",
       "    </tr>\n",
       "  </thead>\n",
       "  <tbody>\n",
       "    <tr>\n",
       "      <th>1991</th>\n",
       "      <td>3.777038e+06</td>\n",
       "      <td>-3.476168e+05</td>\n",
       "      <td>-0.092034</td>\n",
       "    </tr>\n",
       "    <tr>\n",
       "      <th>1996</th>\n",
       "      <td>4.119648e+06</td>\n",
       "      <td>-4.118381e+06</td>\n",
       "      <td>-0.999692</td>\n",
       "    </tr>\n",
       "    <tr>\n",
       "      <th>2001</th>\n",
       "      <td>4.491697e+06</td>\n",
       "      <td>5.039663e+05</td>\n",
       "      <td>0.112200</td>\n",
       "    </tr>\n",
       "    <tr>\n",
       "      <th>2006</th>\n",
       "      <td>4.870532e+06</td>\n",
       "      <td>-1.821898e+05</td>\n",
       "      <td>-0.037407</td>\n",
       "    </tr>\n",
       "    <tr>\n",
       "      <th>2011</th>\n",
       "      <td>5.295000e+06</td>\n",
       "      <td>-5.793883e+04</td>\n",
       "      <td>-0.010942</td>\n",
       "    </tr>\n",
       "    <tr>\n",
       "      <th>2016</th>\n",
       "      <td>5.608448e+06</td>\n",
       "      <td>5.153593e+05</td>\n",
       "      <td>0.091890</td>\n",
       "    </tr>\n",
       "  </tbody>\n",
       "</table>\n",
       "</div>"
      ],
      "text/plain": [
       "               pop     SES_x_pop        wm\n",
       "year                                      \n",
       "1991  3.777038e+06 -3.476168e+05 -0.092034\n",
       "1996  4.119648e+06 -4.118381e+06 -0.999692\n",
       "2001  4.491697e+06  5.039663e+05  0.112200\n",
       "2006  4.870532e+06 -1.821898e+05 -0.037407\n",
       "2011  5.295000e+06 -5.793883e+04 -0.010942\n",
       "2016  5.608448e+06  5.153593e+05  0.091890"
      ]
     },
     "execution_count": 12,
     "metadata": {},
     "output_type": "execute_result"
    }
   ],
   "source": [
    "df_pca_o[\"SES_x_pop\"] = df_pca_o[\"SESi\"] * df_pca_o[\"pop\"]\n",
    "\n",
    "temp = df_pca_o.groupby('year').agg({'pop': 'sum', 'SES_x_pop': 'sum'})\n",
    "temp[\"wm\"] = temp[\"SES_x_pop\"] / temp[\"pop\"] \n",
    "temp"
   ]
  },
  {
   "cell_type": "code",
   "execution_count": 13,
   "metadata": {},
   "outputs": [],
   "source": [
    "# saving to file\n",
    "# df_pca_o[[\"ct_year\",\"SESi\"]].to_csv(\"data/PCA_SES_Toronto.csv\")"
   ]
  },
  {
   "cell_type": "markdown",
   "metadata": {},
   "source": [
    "Setting up data to creat a violin plot of SES by year"
   ]
  },
  {
   "cell_type": "code",
   "execution_count": 17,
   "metadata": {},
   "outputs": [],
   "source": [
    "oot = []\n",
    "for index, row in df_pca_o.iterrows():\n",
    "    pop = row['pop']\n",
    "    SES = row['SESi']\n",
    "    year = row['year']\n",
    "    while pop > 0:\n",
    "        oot.append([year,SES])\n",
    "        pop = pop - 10"
   ]
  },
  {
   "cell_type": "code",
   "execution_count": 18,
   "metadata": {},
   "outputs": [],
   "source": [
    "dfv = pd.DataFrame(oot)\n",
    "dfv.columns = ['year', 'SESi']"
   ]
  },
  {
   "cell_type": "code",
   "execution_count": 23,
   "metadata": {},
   "outputs": [
    {
     "data": {
      "text/plain": [
       "<AxesSubplot:xlabel='year', ylabel='SESi'>"
      ]
     },
     "execution_count": 23,
     "metadata": {},
     "output_type": "execute_result"
    },
    {
     "data": {
      "image/png": "[encoded data removed]",
      "text/plain": [
       "<Figure size 432x288 with 1 Axes>"
      ]
     },
     "metadata": {
      "needs_background": "light"
     },
     "output_type": "display_data"
    }
   ],
   "source": [
    "sns.violinplot(x=\"year\", y=\"SESi\", data=dfv) # , width = 1\n",
    "# plt.savefig('temp.svg')"
   ]
  }
 ],
 "metadata": {
  "kernelspec": {
   "display_name": "Python 3",
   "language": "python",
   "name": "python3"
  },
  "language_info": {
   "codemirror_mode": {
    "name": "ipython",
    "version": 3
   },
   "file_extension": ".py",
   "mimetype": "text/x-python",
   "name": "python",
   "nbconvert_exporter": "python",
   "pygments_lexer": "ipython3",
   "version": "3.8.2"
  }
 },
 "nbformat": 4,
 "nbformat_minor": 4
}
